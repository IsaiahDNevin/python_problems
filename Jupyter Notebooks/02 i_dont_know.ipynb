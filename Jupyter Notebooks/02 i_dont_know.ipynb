{
 "cells": [
  {
   "cell_type": "code",
   "execution_count": 1,
   "metadata": {},
   "outputs": [
    {
     "ename": "SyntaxError",
     "evalue": "leading zeros in decimal integer literals are not permitted; use an 0o prefix for octal integers (1065949224.py, line 4)",
     "output_type": "error",
     "traceback": [
      "\u001b[0;36m  Cell \u001b[0;32mIn[1], line 4\u001b[0;36m\u001b[0m\n\u001b[0;31m    'dob': 01/20/2006,\u001b[0m\n\u001b[0m           ^\u001b[0m\n\u001b[0;31mSyntaxError\u001b[0m\u001b[0;31m:\u001b[0m leading zeros in decimal integer literals are not permitted; use an 0o prefix for octal integers\n"
     ]
    }
   ],
   "source": [
    "Emply = {\n",
    "    'name': 'Haru Tanaka',\n",
    "    'Emply_Num': 1,\n",
    "    'dob': 01/20/2006,\n",
    "    'has_laptop': False\n",
    "}\n",
    "\n",
    "Information = {\n",
    "    \"first_name\": \"Isaiah\",\n",
    "    \"last_name\": \"Nevin\",\n",
    "    \"city\": \"Spokane\",\n",
    "    \"country\": \"USA\",\n",
    "    \"hobby\": \"Mountain Biking\",\n",
    "    \"favorite_food\": \"Pizza\",\n",
    "    \"occupation\": \"Developer\",\n",
    "    \"company\": \"Tech Corp\",\n",
    "    \"pet_name\": \"Buddy\",\n",
    "    \"language\": \"Python\"\n",
    "}\n",
    "\n",
    "Num = len(Information)\n",
    "\n",
    "Information.popitem()\n",
    "Information.update({'hrjackson' : 'Henietta Jackson'})\n",
    "print('age' in Information)\n",
    "print('first_name' in Information)\n",
    "print(Information[\"city\"])\n",
    "print(Information)\n",
    "print(Num)\n"
   ]
  }
 ],
 "metadata": {
  "kernelspec": {
   "display_name": "Python 3",
   "language": "python",
   "name": "python3"
  },
  "language_info": {
   "codemirror_mode": {
    "name": "ipython",
    "version": 3
   },
   "file_extension": ".py",
   "mimetype": "text/x-python",
   "name": "python",
   "nbconvert_exporter": "python",
   "pygments_lexer": "ipython3",
   "version": "3.12.1"
  }
 },
 "nbformat": 4,
 "nbformat_minor": 2
}
